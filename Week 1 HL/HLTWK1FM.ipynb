{
 "metadata": {
  "language_info": {
   "codemirror_mode": {
    "name": "ipython",
    "version": 3
   },
   "file_extension": ".py",
   "mimetype": "text/x-python",
   "name": "python",
   "nbconvert_exporter": "python",
   "pygments_lexer": "ipython3",
   "version": "3.9.4"
  },
  "orig_nbformat": 2,
  "kernelspec": {
   "name": "python394jvsc74a57bd0234e2ac5f5a9ba658ac728bc513e608aca79b4e5121d7b124189d6f0d211cddc",
   "display_name": "Python 3.9.4 64-bit"
  },
  "metadata": {
   "interpreter": {
    "hash": "234e2ac5f5a9ba658ac728bc513e608aca79b4e5121d7b124189d6f0d211cddc"
   }
  }
 },
 "nbformat": 4,
 "nbformat_minor": 2,
 "cells": [
  {
   "cell_type": "code",
   "execution_count": 14,
   "metadata": {},
   "outputs": [
    {
     "output_type": "error",
     "ename": "SyntaxError",
     "evalue": "invalid syntax (<ipython-input-14-c9f1df617206>, line 1)",
     "traceback": [
      "\u001b[1;36m  File \u001b[1;32m\"<ipython-input-14-c9f1df617206>\"\u001b[1;36m, line \u001b[1;32m1\u001b[0m\n\u001b[1;33m    Task 1\u001b[0m\n\u001b[1;37m         ^\u001b[0m\n\u001b[1;31mSyntaxError\u001b[0m\u001b[1;31m:\u001b[0m invalid syntax\n"
     ]
    }
   ],
   "source": [
    "Task 1\n",
    "import random\n",
    "num = random.randint(1,10)          #Generates random numbers between 1 and 10\n",
    "\n",
    "name = input('Enter your name: ')   #Prompts the user for a name\n",
    "print('Well',name,'I am thinking of a number between 1 and 10.')\n",
    "\n",
    "guess = int(input('Enter your guess:'))\n",
    "\n",
    "if guess == num:\n",
    "    print('Good job '+ name +'! you guessed my number')\n",
    "else:\n",
    "    print('Sorry, the number is',num)"
   ]
  },
  {
   "cell_type": "code",
   "execution_count": null,
   "metadata": {},
   "outputs": [],
   "source": [
    "Task 2 \n",
    "\n",
    "user_input = int(input('Enter any number between 1 and 100: '))\n",
    "\n",
    "if user_input <= 10:\n",
    "    print('Why do Python programmers have low self esteem? They are constantly comparing their self to others.')\n",
    "\n",
    "elif user_input <= 50:\n",
    "    print('What did the Python say when he came out of his shell? Print(\"Hello World!\"))\n",
    "\n",
    "elif user_input < 100:\n",
    "    print('Why does python live on land? Because it’s above C-level.')\n",
    "\n",
    "else\n",
    "    print('The joke has ended')"
   ]
  },
  {
   "cell_type": "code",
   "execution_count": null,
   "metadata": {},
   "outputs": [],
   "source": [
    "Task 3\n",
    "\n",
    "starter = input('What do you want for starter? ')\n",
    "main = input('What is your main course? ')\n",
    "dessert = input('What is your preferred dessert? ')\n",
    "drink = input('Enter your favourite drink: ')\n",
    "myOrder = 'Your favourite meal is '+ starter, main +' and '+dessert+' with a glass of '+drink\n",
    "print(myOrder)"
   ]
  },
  {
   "cell_type": "code",
   "execution_count": null,
   "metadata": {},
   "outputs": [],
   "source": [
    "Task 4\n",
    "\n",
    "item_price = 2000   # price of the motorbike\n",
    "year = 2021\n",
    "depreciation = 0.1  # Depreciation value at 10%\n",
    "\n",
    "while item_price >= 1000:\n",
    "    dep_price = int(item_price * depreciation)  # Depreciation price = price of the motorbike * depreciation value at 10%\n",
    "    dep_value = int(item_price - dep_price)     # Depreciation value = price of the motorbike - Depreciation price\n",
    "    item_price = int(dep_value)\n",
    "    year += 1\n",
    "    print( 'In', year, 'the motorbike value will be £', item_price, 'depreciating at the rate of 10% pa')"
   ]
  },
  {
   "cell_type": "code",
   "execution_count": null,
   "metadata": {},
   "outputs": [],
   "source": [
    "Task 5\n",
    "\n",
    "operation = input('''\n",
    "Please type in the math operation you would like to complete:\n",
    "a) + for addition\n",
    "b) - for subtraction\n",
    "c) / for division\n",
    "d) * for multiplication\n",
    "e) ** for exponentiation (power of)\n",
    "f) % for modulo\n",
    "''')\n",
    "\n",
    "first_num = int(input('Enter your first number: '))\n",
    "sec_num = int(input('Enter your second number: '))\n",
    "\n",
    "a = '+'\n",
    "b = '-'\n",
    "c = '/'\n",
    "d = '*'\n",
    "e = '**'\n",
    "f = '%'\n",
    "\n",
    "if operation == a:\n",
    "    print('{} + {} ='.format(first_num,sec_num))\n",
    "    print(first_num + sec_num)\n",
    "elif operation == b:\n",
    "    print('{} - {} ='.format(first_num,sec_num))\n",
    "    print(first_num - sec_num)\n",
    "elif operation == c:\n",
    "    print('{} / {} ='.format(first_num,sec_num))\n",
    "    print(first_num / sec_num)\n",
    "elif operation == d:\n",
    "    print('{} * {} ='.format(first_num,sec_num))\n",
    "    print(first_num * sec_num)\n",
    "elif operation == e:\n",
    "    print('{} ** {} ='.format(first_num,sec_num))\n",
    "    print(first_num ** sec_num)\n",
    "elif operation == f:\n",
    "    print('{} % {} ='.format(first_num,sec_num))\n",
    "    print(first_num % sec_num)\n",
    "else:\n",
    "    print('You have entered an invalid operator, please try again')\n"
   ]
  }
 ]
}